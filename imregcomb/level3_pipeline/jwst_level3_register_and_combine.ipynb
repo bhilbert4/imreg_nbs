{
 "cells": [
  {
   "cell_type": "markdown",
   "metadata": {},
   "source": [
    "# Image Registration and Combination using the JWST Level 3 Pipeline"
   ]
  },
  {
   "cell_type": "markdown",
   "metadata": {},
   "source": [
    "Stage 3 imaging (Image3, calwebb_image3) processing is intended for combining the calibrated data from multiple exposures (e.g., a dither or mosaic pattern) into a single distortion corrected product. Before being combined, the exposures receive additional corrections for the purpose of astrometric alignment, background matching, and outlier rejection. \n",
    "\n",
    "> **Inputs**: The inputs to calwebb_image3 will usually be in the form of an association (ASN) file that lists multiple associated 2D calibrated exposures to be processed and combined into a single product. The individual exposures should be calibrated (\"cal\") from calwebb_image2 processing. It is also possible use a single \"cal\" file as input, in which case only the resample and source_catalog steps will be applied.\n",
    "\n",
    "> **Outputs**: A resampled/rectified 2D image product with suffix \"i2d\" is created, containing the rectified single exposure or the rectified and combined association of exposures (the direct output of the resample step). A source catalog produced from the \"i2d\" product is saved as an ASCII file in \"ecsv\" format, with a suffix of \"cat\". If the outlier_detection step is applied, a new version of each input calibrated exposure product is created, which contains a DQ array that has been updated to flag pixels detected as outliers. This updated product is known as a CR-flagged product and the file is identified by including the association candidate ID in the original input \"cal\" file name and changing the suffix to \"crf\".\n",
    "    \n",
    "\n",
    "Level 3 pipeline steps:\n",
    "\n",
    "**[Tweakreg](https://jwst-pipeline.readthedocs.io/en/stable/jwst/tweakreg/README.html)** (jwst.tweakreg, tweakreg_step, TweakRegStep)\n",
    "\n",
    "**[Sky Match](https://jwst-pipeline.readthedocs.io/en/stable/jwst/skymatch/README.html)** (jwst.skymatch, skymatch_step, SkyMatchStep)\n",
    "\n",
    "**[Outlier Detection](https://jwst-pipeline.readthedocs.io/en/stable/jwst/outlier_detection/index.html)** (jwst.outlier_detection, outlier_detection_step, OutlierDetectionStep)\n",
    "\n",
    "**[Resample](https://jwst-pipeline.readthedocs.io/en/stable/jwst/resample/main.html)** (jwst.resample, resample_step, ResampleStep)\n",
    "\n",
    "**[Source Catalog](https://jwst-pipeline.readthedocs.io/en/stable/jwst/source_catalog/main.html)** (jwst.source_catalog, source_catalog_step, SourceCatalogStep)\n",
    "\n",
    "(for more information on individual steps see the [JWST package index](https://jwst-pipeline.readthedocs.io/en/latest/jwst/package_index.html))"
   ]
  },
  {
   "cell_type": "markdown",
   "metadata": {},
   "source": [
    "### Table of Contents:\n",
    "> * [Resources and Documentation](#resources)\n",
    "> * [Get example data](#get_data)\n",
    "> * [Create Association table](#association)\n",
    "> * [Configuration Files](#pipeline_configs)\n",
    "> * [Methods of calling the pipeline](#methods)\n",
    ">     * [Run Pipeline with Configuration Files](#pipeline_with_cfgs)\n",
    ">     * [Run Pipeline with Paramters Set Programmatically](#pipeline_no_configs)\n",
    ">     * [Run Individual Steps with Configuration Files](#steps_with_config_files)\n",
    ">     * [Run Individual Steps with Parameters Set Programmatically](#steps_no_configs)"
   ]
  },
  {
   "cell_type": "markdown",
   "metadata": {},
   "source": [
    "## Imports"
   ]
  },
  {
   "cell_type": "code",
   "execution_count": null,
   "metadata": {},
   "outputs": [],
   "source": [
    "import os\n",
    "import requests\n",
    "from glob import glob\n",
    "from astropy.io import fits\n",
    "from astropy.table import Table\n",
    "from astropy.visualization import simple_norm\n",
    "import matplotlib.pyplot as plt\n",
    "% matplotlib inline"
   ]
  },
  {
   "cell_type": "code",
   "execution_count": null,
   "metadata": {},
   "outputs": [],
   "source": [
    "# Import pipeline\n",
    "from jwst.pipeline import Image3Pipeline\n",
    "from jwst import datamodels\n",
    "from jwst.associations import load_asn\n",
    "# from jwst.associations.asn_from_list import asn_from_list  # perhaps can be done in the future"
   ]
  },
  {
   "cell_type": "code",
   "execution_count": null,
   "metadata": {},
   "outputs": [],
   "source": [
    "# Import individual pipeline steps\n",
    "from jwst.tweakreg import tweakreg_step\n",
    "from jwst.skymatch import skymatch_step\n",
    "from jwst.outlier_detection import outlier_detection_step\n",
    "from jwst.resample import resample_step\n",
    "from jwst.source_catalog import source_catalog_step"
   ]
  },
  {
   "cell_type": "markdown",
   "metadata": {},
   "source": [
    "***\n",
    "<a id='resources'></a>\n",
    "## 1. Resources and Documentation"
   ]
  },
  {
   "cell_type": "markdown",
   "metadata": {},
   "source": [
    "There are several different places to find information on installing and running the pipeline. This notebook will give a shortened description of the steps pulled from the detailed pipeline information pages, but to find more in-depth instructions use the links below. \n",
    "\n",
    ">1. [Data Reduction Pipeline page](https://jwst-docs.stsci.edu/display/JDAT/JWST+Data+Reduction+Pipeline)\n",
    ">2. [Pipeline Installation page](http://astroconda.readthedocs.io/en/latest/releases.html#pipeline-install)\n",
    ">3. [Detailed pipeline information](https://jwst-pipeline.readthedocs.io/en/latest/jwst/introduction.html)\n",
    ">4. [JWST Help Desk](https://stsci.service-now.com/jwst?id=sc_cat_item&sys_id=27a8af2fdbf2220033b55dd5ce9619cd&sysparm_category=e15706fc0a0a0aa7007fc21e1ab70c2f)"
   ]
  },
  {
   "cell_type": "markdown",
   "metadata": {},
   "source": [
    "***\n",
    "<a id='get_data'></a>\n",
    "## Get example data"
   ]
  },
  {
   "cell_type": "markdown",
   "metadata": {},
   "source": [
    "An example dataset that can be used with this notebook is present in our Artifactory repository. The cell below downloads these data."
   ]
  },
  {
   "cell_type": "code",
   "execution_count": null,
   "metadata": {},
   "outputs": [],
   "source": [
    "association_file = \"jw10002_level3_asn.json\""
   ]
  },
  {
   "cell_type": "code",
   "execution_count": null,
   "metadata": {},
   "outputs": [],
   "source": [
    "# Grab a copy of the data used in this notebook from the\n",
    "# artifactory repository\n",
    "RT_SERVER = \"https://bytesalad.stsci.edu/artifactory/\"\n",
    "artifactory_subdir = 'jwst-simulations-sandbox/image-registration-hackday/nircam_001/nircam_001/'\n",
    "url = os.path.join(RT_SERVER, os.path.join(artifactory_subdir, association_file))\n",
    "print(url)\n",
    "with open(association_file, 'wb') as f:\n",
    "    with requests.get(url, stream=True) as r:\n",
    "        for chunk in r.iter_content(chunk_size=1024):\n",
    "            if chunk:\n",
    "                f.write(chunk)\n",
    "with open(os.path.basename(url)) as fh:\n",
    "    asn = load_asn(fh)\n",
    "files = [f['expname'] for f in asn['products'][0]['members']]\n",
    "for file in files:\n",
    "    fileurl = os.path.join(os.path.dirname(url), file)\n",
    "    with open(file, 'wb') as f:\n",
    "        with requests.get(fileurl, stream=True) as r:\n",
    "            if r.status_code == 200:\n",
    "                for chunk in r.iter_content(chunk_size=1024):\n",
    "                    if chunk:\n",
    "                        f.write(chunk)\n",
    "            else:\n",
    "                raise RuntimeError(\"Wrong URL - {}\".format(fileurl))"
   ]
  },
  {
   "cell_type": "markdown",
   "metadata": {},
   "source": [
    "***\n",
    "<a id='association'></a>\n",
    "## Create an Association Table"
   ]
  },
  {
   "cell_type": "markdown",
   "metadata": {},
   "source": [
    "An association file is a necessary input to the Level 3 pipeline. It is a **json** file that should contain a list of the files to be combined in a single mosaic. Files that cannot be combined (e.g. NIRCam shortwave and longwave data) must be placed in separate association tables. For this example, we will use the assocation file downloaded from Artifactory above."
   ]
  },
  {
   "cell_type": "markdown",
   "metadata": {},
   "source": [
    "It is possible to create your own association file if you have a list of data files to be calibrated. Currently the best way to do this is using the **asn_from_list** tool on the command line."
   ]
  },
  {
   "cell_type": "code",
   "execution_count": null,
   "metadata": {},
   "outputs": [],
   "source": [
    "# Create asn file. In this case, assume you have a series of level 2 pipeline outputs (*_cal.fits files).\n",
    "# Use the command line tool.\n",
    "#\n",
    "# asn_from_list *_cal.fits -o jw1002_level3_asn.json --product-name jw10002_short"
   ]
  },
  {
   "cell_type": "code",
   "execution_count": null,
   "metadata": {},
   "outputs": [],
   "source": [
    "# IN THE FUTURE, PERHAPS?????\n",
    "# List of filenames to include\n",
    "#filenames = glob('*_cal.fits')\n",
    "#asn = asn_from_list(filenames, product_name='jw10002_short')\n",
    "#asn.write('my_level3_asn.json')"
   ]
  },
  {
   "cell_type": "markdown",
   "metadata": {},
   "source": [
    "### An example association table"
   ]
  },
  {
   "cell_type": "raw",
   "metadata": {},
   "source": [
    "{\n",
    "    \"asn_type\": \"None\",\n",
    "    \"asn_rule\": \"DMS_Level3_Base\",\n",
    "    \"version_id\": null,\n",
    "    \"code_version\": \"0.10.1a.dev241\",\n",
    "    \"degraded_status\": \"No known degraded exposures in association.\",\n",
    "    \"program\": \"noprogram\",\n",
    "    \"constraints\": \"No constraints\",\n",
    "    \"asn_id\": \"a3001\",\n",
    "    \"target\": \"none\",\n",
    "    \"asn_pool\": \"none\",\n",
    "    \"products\": [\n",
    "        {\n",
    "            \"name\": \"jw10002_short\",\n",
    "            \"members\": [\n",
    "                {\n",
    "                    \"expname\": \"jw10002001001_01101_00001_nrcb1_cal.fits\",\n",
    "                    \"exptype\": \"science\"\n",
    "                },\n",
    "                {\n",
    "                    \"expname\": \"jw10002001001_01101_00001_nrcb2_cal.fits\",\n",
    "                    \"exptype\": \"science\"\n",
    "                },\n",
    "                {\n",
    "                    \"expname\": \"jw10002001001_01101_00001_nrcb3_cal.fits\",\n",
    "                    \"exptype\": \"science\"\n",
    "                },\n",
    "                {\n",
    "                    \"expname\": \"jw10002001001_01101_00001_nrcb4_cal.fits\",\n",
    "                    \"exptype\": \"science\"\n",
    "                },\n",
    "                {\n",
    "                    \"expname\": \"jw10002001001_01102_00001_nrcb1_cal.fits\",\n",
    "                    \"exptype\": \"science\"\n",
    "                },\n",
    "                {\n",
    "                    \"expname\": \"jw10002001001_01102_00001_nrcb2_cal.fits\",\n",
    "                    \"exptype\": \"science\"\n",
    "                },\n",
    "                {\n",
    "                    \"expname\": \"jw10002001001_01102_00001_nrcb3_cal.fits\",\n",
    "                    \"exptype\": \"science\"\n",
    "                },\n",
    "                {\n",
    "                    \"expname\": \"jw10002001001_01102_00001_nrcb4_cal.fits\",\n",
    "                    \"exptype\": \"science\"\n",
    "                }\n",
    "            ]\n",
    "        }\n",
    "    ]\n",
    "}"
   ]
  },
  {
   "cell_type": "markdown",
   "metadata": {},
   "source": [
    "***\n",
    "<a id='pipeline_configs'></a>\n",
    "## Configuration Files"
   ]
  },
  {
   "cell_type": "markdown",
   "metadata": {},
   "source": [
    "For details on configuration files, see the [JWST configuration file documentation page](https://jwst-pipeline.readthedocs.io/en/stable/jwst/introduction.html#configuration-files)."
   ]
  },
  {
   "cell_type": "markdown",
   "metadata": {},
   "source": [
    "Configuration files are optional inputs for each step of the pipeline, as well as for the pipeline itself. These files list step-specific parameters, and can also be used to control which steps are run as part of the pipeline.\n",
    "\n",
    "You can get the full compliment of configuration files using the `collect_pipeline_cfgs` convenience function from the command line:\n",
    "\n",
    ">`$ collect_pipeline_cfgs ./`\n",
    "\n",
    "This creates a copy of all configuration files, for all steps and all JWST Instruments. Note that default parameters in the config files are not necessarily optimized for any particular instrument. \n",
    "\n",
    "Each of these configuration files can be customized to control pipeline behavior. For example, the configuration file for the Level 3 imaging pipeline is called **calwebb_image3.cfg** and contains a list (not necessarily in order) of the steps run as part of the Level 3 imaging pipeline.\n",
    "\n",
    "\n",
    "    name = \"Image3Pipeline\"\n",
    "    class = \"jwst.pipeline.Image3Pipeline\"\n",
    "\n",
    "        [steps]\n",
    "          [[tweakreg]]\n",
    "            config_file = tweakreg.cfg\n",
    "            skip = True\n",
    "          [[skymatch]]\n",
    "            config_file = skymatch.cfg\n",
    "          [[outlier_detection]]\n",
    "            config_file = outlier_detection.cfg\n",
    "          [[resample]]\n",
    "            config_file = resample.cfg\n",
    "          [[source_catalog]]\n",
    "            config_file = source_catalog.cfg\n",
    "            save_results = true\n",
    "        \n",
    "In this example, the ***tweakreg*** step will be skipped (`skip = True`), and the output from the ***source_catalog*** step will be saved (`save_results = True`).\n",
    "\n",
    "Note tht **calwebb_image3.cfg** lists a configuration file for each pipeline step. You can customize a particular pipeline step by editing the parameters in its configuration file. For example, the source catalog configuration file, shown below, contains details on the kernel size and FWHM, as well as the signal to noise threshold to use in the identification of sources in the final combined image. \n",
    "\n",
    "\n",
    "    name = \"source_catalog\"\n",
    "    class = \"jwst.source_catalog.SourceCatalogStep\"\n",
    "\n",
    "    kernel_fwhm = 3.\n",
    "    kernel_xsize = 5.\n",
    "    kernel_ysize = 5.\n",
    "    snr_threshold = 3.\n",
    "    npixels = 50\n",
    "    deblend = False"
   ]
  },
  {
   "cell_type": "markdown",
   "metadata": {},
   "source": [
    "***\n",
    "<a id=\"methods\"></a>\n",
    "# Methods of calling the pipeline"
   ]
  },
  {
   "cell_type": "markdown",
   "metadata": {},
   "source": [
    "The calibration steps performed by the Level 3 pipeline can be run in several different ways. First, there are two ways to call the pipeline:\n",
    "\n",
    "- Call the pipeline itself\n",
    "- Call the individual steps that make up the pipeline\n",
    "\n",
    "With the former method, only a single call is needed to run the entire pipeline with the appropriate steps in the proper order. The latter method allows you to inspect and potentially modify the output from a given step before moving on to the next. \n",
    "\n",
    "In addition, there are two methods for calling the pipeline or pipeline steps.\n",
    "\n",
    "- Using **configuration files**\n",
    "- Setting parameters programmatically\n",
    "\n",
    "Below, we show examples of all four combinations:\n",
    "\n",
    "1. [Call the pipeline with configuration files](#pipeline_with_cfgs)\n",
    "2. [Call the pipeline with parameters set programmatically](#pipeline_no_configs)\n",
    "3. [Call the individual pipeline steps using configuration files](#steps_with_config_files)\n",
    "4. [Call the individual pipeline steps with parameters set programmatically](#steps_no_configs)"
   ]
  },
  {
   "cell_type": "markdown",
   "metadata": {},
   "source": [
    "***\n",
    "<a id=\"pipeline_with_cfgs\"></a>\n",
    "## Run Pipeline with Configuration Files"
   ]
  },
  {
   "cell_type": "markdown",
   "metadata": {},
   "source": [
    "Once you have edited the configuration files to customize the Level 3 pipeline, the command below will run the pipeline.\n",
    "\n",
    "This will generate the following products:\n",
    "\n",
    " - Final source catalog ***cat.ecsv***\n",
    " - Final 2D image ***i2d.fits***\n",
    " - Individual exposures with DQ array flagged for outliers ***crf.fits***\n",
    " - Individual blotted images from the outlier detection step ***blot.fits***."
   ]
  },
  {
   "cell_type": "markdown",
   "metadata": {},
   "source": [
    "***\n",
    "**NOTE:** when using configuration files, the pipeline must be called using the **call** method. There is also a **run** method (which can be used when calling with [parameters set programmatically](#pipeline_no_configs)). Only the **call** method inspects the configuration files. Any configuration files provided to a call to the **run** method will be ignored!\n",
    "***"
   ]
  },
  {
   "cell_type": "code",
   "execution_count": null,
   "metadata": {
    "scrolled": true
   },
   "outputs": [],
   "source": [
    "# Note that the basename of the output combined image is set in the association file\n",
    "# in the \"name\" field.\n",
    "m = Image3Pipeline.call(association_file, config_file='config/calwebb_image3.cfg')"
   ]
  },
  {
   "cell_type": "markdown",
   "metadata": {},
   "source": [
    "### Examine Outputs"
   ]
  },
  {
   "cell_type": "markdown",
   "metadata": {},
   "source": [
    "#### Source Catalog"
   ]
  },
  {
   "cell_type": "code",
   "execution_count": null,
   "metadata": {},
   "outputs": [],
   "source": [
    "# Below is an example source catalog product\n",
    "catalog = Table.read(\"jw10002_short_cat.ecsv\",format='ascii.ecsv')"
   ]
  },
  {
   "cell_type": "code",
   "execution_count": null,
   "metadata": {},
   "outputs": [],
   "source": [
    "# List columns in the source catalog\n",
    "print(catalog.colnames)"
   ]
  },
  {
   "cell_type": "code",
   "execution_count": null,
   "metadata": {},
   "outputs": [],
   "source": [
    "# Show the catalog\n",
    "catalog"
   ]
  },
  {
   "cell_type": "markdown",
   "metadata": {},
   "source": [
    "#### View the Final Combined 2D Image"
   ]
  },
  {
   "cell_type": "code",
   "execution_count": null,
   "metadata": {},
   "outputs": [],
   "source": [
    "# Output combined image\n",
    "combined_image_file = 'jw10002_short_i2d.fits'\n",
    "combined_image = fits.getdata(combined_image_file)"
   ]
  },
  {
   "cell_type": "code",
   "execution_count": null,
   "metadata": {},
   "outputs": [],
   "source": [
    "from astropy.visualization import LogStretch, ImageNormalize, ManualInterval\n",
    "norm = ImageNormalize(combined_image, interval=ManualInterval(vmin=0, vmax=50), stretch=LogStretch())\n",
    "fig = plt.figure(figsize=(12,12))\n",
    "ax = fig.add_subplot(1, 1, 1)\n",
    "im = ax.imshow(combined_image, origin='lower', norm=norm)\n",
    "fig.colorbar(im)\n",
    "plt.show()"
   ]
  },
  {
   "cell_type": "markdown",
   "metadata": {},
   "source": [
    "***\n",
    "<a id=\"pipeline_no_configs\"></a>\n",
    "## Run Pipeline with Parameters Set Programmatically"
   ]
  },
  {
   "cell_type": "markdown",
   "metadata": {},
   "source": [
    "You can also run the pipeline without relying on configuration files by setting parameters programmatically, in combination with relying on the defaults in the pipeline. Note that this makes use of the **run** method."
   ]
  },
  {
   "cell_type": "code",
   "execution_count": null,
   "metadata": {
    "scrolled": true
   },
   "outputs": [],
   "source": [
    "m = Image3Pipeline()\n",
    "\n",
    "# You can skip steps and change parameter values.\n",
    "# Note that the attribute names below match those in the configuration file for the appropriate pipeline step\n",
    "m.tweakreg.skip = False\n",
    "m.source_catalog.snr_threshold = 10\n",
    "m.source_catalog.output_file = 'jw10002_short_no_cfgs_cat.ecsv'\n",
    "\n",
    "# run the pipeline with these paramters\n",
    "m.run(association_file)"
   ]
  },
  {
   "cell_type": "markdown",
   "metadata": {},
   "source": [
    "The level 3 pipeline outputs are identical to those produced when the pipeline was called using configuration files."
   ]
  },
  {
   "cell_type": "markdown",
   "metadata": {},
   "source": [
    "#### Source Catalog"
   ]
  },
  {
   "cell_type": "code",
   "execution_count": null,
   "metadata": {},
   "outputs": [],
   "source": [
    "# Below is an example source catalog product\n",
    "catalog = Table.read(\"jw10002_short_cat.ecsv\",format='ascii.ecsv')\n",
    "catalog"
   ]
  },
  {
   "cell_type": "markdown",
   "metadata": {},
   "source": [
    "#### Combined Image"
   ]
  },
  {
   "cell_type": "code",
   "execution_count": null,
   "metadata": {},
   "outputs": [],
   "source": [
    "from astropy.visualization import LogStretch, ImageNormalize, ManualInterval\n",
    "norm = ImageNormalize(combined_image, interval=ManualInterval(vmin=0, vmax=50), stretch=LogStretch())\n",
    "fig = plt.figure(figsize=(12,12))\n",
    "ax = fig.add_subplot(1, 1, 1)\n",
    "im = ax.imshow(combined_image, origin='lower', norm=norm)\n",
    "fig.colorbar(im)\n",
    "plt.show()"
   ]
  },
  {
   "cell_type": "markdown",
   "metadata": {},
   "source": [
    "***\n",
    "<a id=\"steps_with_config_files\"></a>\n",
    "## Run Individual Steps with Configuration Files"
   ]
  },
  {
   "cell_type": "markdown",
   "metadata": {},
   "source": [
    "It is also possible to call the individual pipeline steps, rather than the pipeline itself. Here we show an example of calling individual steps using their configuration files and the **call** method."
   ]
  },
  {
   "cell_type": "markdown",
   "metadata": {},
   "source": [
    "***\n",
    "**NOTE:** when using configuration files, the steps must be called using the **call** method. There is also a **run** method (which can be used when calling with [parameters set programmatically](#steps_no_configs). Only the **call** method inspects the configuration files. Any configuration files provided to a call to the **run** method will be ignored!\n",
    "***"
   ]
  },
  {
   "cell_type": "markdown",
   "metadata": {},
   "source": [
    "The level 3 pipeline for imaging data (calwebb_image3) is composed of five steps. \n",
    "\n",
    " 1. [tweakreg](https://jwst-pipeline.readthedocs.io/en/stable/jwst/tweakreg/README.html): Performs image alignment using source catalogs.\n",
    " 2. [skymatch](https://jwst-pipeline.readthedocs.io/en/stable/jwst/skymatch/README.html): Measures and adjusts sky levels in input data so that they are consistent.\n",
    " 3. [outlier detection](https://jwst-pipeline.readthedocs.io/en/stable/jwst/outlier_detection/index.html): Searches for transient sources (e.g. cosmic rays) and flags them such that they are ignored during image combination.\n",
    " 4. [resample](https://jwst-pipeline.readthedocs.io/en/stable/jwst/resample/main.html): Will resample all individual images, taking into account WCS and distortion information and combines into a single, distortion-free product\n",
    " 5. [source catalog](https://jwst-pipeline.readthedocs.io/en/stable/jwst/source_catalog/main.html): Creates a final catalog of sources in the combined 2d image produced in the resample step."
   ]
  },
  {
   "cell_type": "markdown",
   "metadata": {},
   "source": [
    "Note how pipeline steps can be chained together: The initial (tweakreg_step) step takes the association file as input. Each subsequent step takes the output of the previous step (along with the appropriate configuration file) as its input."
   ]
  },
  {
   "cell_type": "code",
   "execution_count": null,
   "metadata": {
    "scrolled": true
   },
   "outputs": [],
   "source": [
    "m = tweakreg_step.TweakRegStep.call(association_file, config_file='config/tweakreg.cfg')\n",
    "m = skymatch_step.SkyMatchStep.call(m, config_file='config/skymatch.cfg')\n",
    "m = outlier_detection_step.OutlierDetectionStep.call(m, config_file='config/outlier_detection.cfg')\n",
    "m = resample_step.ResampleStep.call(m, config_file='config/resample.cfg',\n",
    "                                    output_file='jw10002_short_step_by_step_i2d.fits')\n",
    "m = source_catalog_step.SourceCatalogStep.call(m, config_file='config/source_catalog.cfg',\n",
    "                                               output_file='jw10002_short_step_by_step_cat.ecsv')"
   ]
  },
  {
   "cell_type": "markdown",
   "metadata": {},
   "source": [
    "***\n",
    "<a id=\"steps_no_configs\"></a>\n",
    "## Run Individual Steps with Parameters Set Programmatically"
   ]
  },
  {
   "cell_type": "markdown",
   "metadata": {},
   "source": [
    "As with the pipeline example, the individual pipeline steps can also have their parameters set programmatically before being called with the **run** method."
   ]
  },
  {
   "cell_type": "code",
   "execution_count": null,
   "metadata": {
    "scrolled": true
   },
   "outputs": [],
   "source": [
    "# Tweakreg\n",
    "tr = tweakreg_step.TweakRegStep()\n",
    "tr.save_catlogs = False\n",
    "tr.snr_threshold = 25.\n",
    "tr.minobj = 15\n",
    "tr_results = tr.run(association_file)"
   ]
  },
  {
   "cell_type": "code",
   "execution_count": null,
   "metadata": {
    "scrolled": true
   },
   "outputs": [],
   "source": [
    "# Skymatch\n",
    "sm = skymatch_step.SkyMatchStep()\n",
    "sm.skymethod = 'global+match'\n",
    "sm.subtract = False\n",
    "sm.skystat = 'mode'\n",
    "sm.save_results = False\n",
    "sm_results = sm.run(tr_results)"
   ]
  },
  {
   "cell_type": "code",
   "execution_count": null,
   "metadata": {
    "scrolled": true
   },
   "outputs": [],
   "source": [
    "# Outlier Detection\n",
    "od = outlier_detection_step.OutlierDetectionStep()\n",
    "od.weight_type = 'exptime'\n",
    "od.kernel = 'square'\n",
    "od.snr = '4.0 3.0'\n",
    "od.save_intermediate_results = False\n",
    "od.good_bits = 4\n",
    "od_results = od.run(sm_results)"
   ]
  },
  {
   "cell_type": "code",
   "execution_count": null,
   "metadata": {
    "scrolled": true
   },
   "outputs": [],
   "source": [
    "# Resample\n",
    "resamp = resample_step.ResampleStep()\n",
    "resamp.weight_type = 'exptime'\n",
    "resamp.good_bits = 4\n",
    "resamp.save_results = True\n",
    "resamp_results = resamp.run(od_results)"
   ]
  },
  {
   "cell_type": "code",
   "execution_count": null,
   "metadata": {},
   "outputs": [],
   "source": [
    "# Look at registered & combined image\n",
    "f,a = plt.subplots(figsize=(12, 12))\n",
    "norm = simple_norm(resamp_results.data, 'log', min_cut=0, max_cut=50)\n",
    "img = a.imshow(resamp_results.data, norm=norm, origin='lower', cmap='viridis')\n",
    "f.colorbar(img)\n",
    "plt.show()"
   ]
  },
  {
   "cell_type": "code",
   "execution_count": null,
   "metadata": {},
   "outputs": [],
   "source": [
    "# Source Catalog\n",
    "sc = source_catalog_step.SourceCatalogStep()\n",
    "sc.snr_threshold = 10\n",
    "sc.npixels = 50\n",
    "sc.save_results = True\n",
    "sc_results = sc.run(resamp_results)"
   ]
  },
  {
   "cell_type": "code",
   "execution_count": null,
   "metadata": {
    "scrolled": true
   },
   "outputs": [],
   "source": [
    "# Examine output catalog\n",
    "catalog = Table.read(\"jw10002_short_cat.ecsv\",format='ascii.ecsv')\n",
    "catalog"
   ]
  }
 ],
 "metadata": {
  "kernelspec": {
   "display_name": "Python 3",
   "language": "python",
   "name": "python3"
  },
  "language_info": {
   "codemirror_mode": {
    "name": "ipython",
    "version": 3
   },
   "file_extension": ".py",
   "mimetype": "text/x-python",
   "name": "python",
   "nbconvert_exporter": "python",
   "pygments_lexer": "ipython3",
   "version": "3.6.6"
  }
 },
 "nbformat": 4,
 "nbformat_minor": 2
}
